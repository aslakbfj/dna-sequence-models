{
 "cells": [
  {
   "cell_type": "code",
   "execution_count": 2,
   "metadata": {},
   "outputs": [
    {
     "data": {
      "text/plain": [
       "(1639086, 8)"
      ]
     },
     "execution_count": 2,
     "metadata": {},
     "output_type": "execute_result"
    }
   ],
   "source": [
    "import pandas as pd\n",
    "\n",
    "# Define the column names\n",
    "column_names = ['chrom:range', 'sequence'] + [f'feature_{i}' for i in range(1, 7)]\n",
    "\n",
    "# Load the tsv file\n",
    "df3 = pd.read_csv('C:/Users/aslak/Master/Github_first/Master/dna-sequence-models/AtlanticSalmon_bins.tsv', sep='\\t', names=column_names)\n",
    "\n",
    "# Print the dataframe\n",
    "df3.shape"
   ]
  },
  {
   "cell_type": "code",
   "execution_count": 4,
   "metadata": {},
   "outputs": [],
   "source": [
    "content = []\n",
    "with open('C:/Users/aslak/Master/Github_first/Master/dna-sequence-models/AtlanticSalmon_bins.tsv')as f:\n",
    "    for line in f:\n",
    "        content.append(line.strip().split())"
   ]
  },
  {
   "cell_type": "code",
   "execution_count": 19,
   "metadata": {},
   "outputs": [
    {
     "data": {
      "text/plain": [
       "'1:374401-375400'"
      ]
     },
     "execution_count": 19,
     "metadata": {},
     "output_type": "execute_result"
    }
   ],
   "source": [
    "content[0][0]"
   ]
  }
 ],
 "metadata": {
  "kernelspec": {
   "display_name": "testy",
   "language": "python",
   "name": "python3"
  },
  "language_info": {
   "codemirror_mode": {
    "name": "ipython",
    "version": 3
   },
   "file_extension": ".py",
   "mimetype": "text/x-python",
   "name": "python",
   "nbconvert_exporter": "python",
   "pygments_lexer": "ipython3",
   "version": "3.12.2"
  }
 },
 "nbformat": 4,
 "nbformat_minor": 2
}
